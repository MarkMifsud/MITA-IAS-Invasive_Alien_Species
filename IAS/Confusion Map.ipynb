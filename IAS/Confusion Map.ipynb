{
 "cells": [
  {
   "cell_type": "code",
   "execution_count": 5,
   "id": "8a93f48e",
   "metadata": {},
   "outputs": [],
   "source": [
    "\n",
    "import os\n",
    "os.environ[\"OPENCV_IO_MAX_IMAGE_PIXELS\"] = pow(2,50).__str__()\n",
    "from pathlib import Path\n",
    "import ipywidgets as widgets\n",
    "import torch\n",
    "import segmentation_models_pytorch as smp\n",
    "import visualisations2 as vis2\n"
   ]
  },
  {
   "cell_type": "code",
   "execution_count": 6,
   "id": "6ec025a5",
   "metadata": {},
   "outputs": [],
   "source": [
    "output_classes=7"
   ]
  },
  {
   "cell_type": "code",
   "execution_count": 7,
   "id": "29909fe2",
   "metadata": {},
   "outputs": [],
   "source": [
    "model =smp.UnetPlusPlus(\n",
    "    encoder_name=\"resnet152\",        # choose encoder, e.g. mobilenet_v2 or efficientnet-b7\n",
    "    encoder_weights=\"imagenet\",     # use None or `imagenet` pre-trained weights for encoder initialization\n",
    "    in_channels=3,                  # model input channels (1 for gray-scale images, 3 for RGB, etc.)\n",
    "    classes=output_classes,                      # model output channels (number of classes in your dataset, add +1 for background)\n",
    "    activation='softmax',  #deprecated for some models.  Last activation is self(x)\n",
    ")"
   ]
  },
  {
   "cell_type": "code",
   "execution_count": 8,
   "id": "aee7d9ae",
   "metadata": {},
   "outputs": [],
   "source": [
    "\n",
    "\n",
    "device = torch.device('cuda') if torch.cuda.is_available() else torch.device('cpu')\n",
    "\n",
    "Net=model.to(device)"
   ]
  },
  {
   "cell_type": "code",
   "execution_count": 19,
   "id": "044d36b9",
   "metadata": {},
   "outputs": [
    {
     "data": {
      "application/vnd.jupyter.widget-view+json": {
       "model_id": "",
       "version_major": 2,
       "version_minor": 0
      },
      "text/plain": [
       "Select(description='Pick Model:', options=('Ar1-25 Ac1-5 statsOnBg UnetPlusPlus-ResNetEnc-152-11-5-2023', 'Une…"
      ]
     },
     "metadata": {},
     "output_type": "display_data"
    },
    {
     "data": {
      "application/vnd.jupyter.widget-view+json": {
       "model_id": "",
       "version_major": 2,
       "version_minor": 0
      },
      "text/plain": [
       "Button(description='Accept & Proceed', style=ButtonStyle())"
      ]
     },
     "metadata": {},
     "output_type": "display_data"
    },
    {
     "name": "stdout",
     "output_type": "stream",
     "text": [
      "Model:  UnetPlusPlus-ResNetEnc-1612-5-6-2023\n",
      "\n"
     ]
    },
    {
     "data": {
      "application/vnd.jupyter.widget-view+json": {
       "model_id": "7affede2b1db4733aeffa6c249d0931a",
       "version_major": 2,
       "version_minor": 0
      },
      "text/plain": [
       "HBox(children=(SelectMultiple(description='Epochs:', index=(0,), options=('144-231-UnetPlusPlus-ResNetEnc.torc…"
      ]
     },
     "metadata": {},
     "output_type": "display_data"
    },
    {
     "data": {
      "application/vnd.jupyter.widget-view+json": {
       "model_id": "50a62b38c1634909bba1c51ac6c98381",
       "version_major": 2,
       "version_minor": 0
      },
      "text/plain": [
       "Button(description='Accept & Proceed', style=ButtonStyle())"
      ]
     },
     "metadata": {},
     "output_type": "display_data"
    }
   ],
   "source": [
    "Model=''\n",
    "ModelPath=''\n",
    "epochs=[]\n",
    "epochNums=[]\n",
    "speciesList=[]\n",
    "saveString=''\n",
    "\n",
    "\n",
    "def create_dir(path):\n",
    "\t\"\"\" To creating a directory if it does not exist\"\"\"\n",
    "\tif not os.path.exists(path): os.makedirs(path)\n",
    "\n",
    "\n",
    "def FinalOptions():\n",
    "    global saveString\n",
    "    global AcceptEpochsButton\n",
    "    AcceptEpochsButton.close()\n",
    "    \n",
    "    saveString='./Results/'+Model+'/'\n",
    "    create_dir(saveString)\n",
    "    \n",
    "    Speciesbox = widgets.SelectMultiple(options=[1,2,4,5,6,7],\n",
    "        value=[1,2,4,5,6],\n",
    "        rows=6,\n",
    "        description='Choose species to detect:',\n",
    "        disabled=False)\n",
    "    \n",
    "    ListRasters = os.listdir(\".\\\\Data\\\\source\\\\labels\")\n",
    "    Rasterbox = widgets.SelectMultiple(\n",
    "        options=ListRasters,\n",
    "        value=[ListRasters[0]],\n",
    "        rows=12,\n",
    "        description='Select Rasters:',\n",
    "        disabled=False)\n",
    "    Tilebox = widgets.IntText(value=1600, description='Tile Size:', disabled=False)\n",
    "    \n",
    "    Execute = widgets.Button(description='Process', disabled=False,button_style='')\n",
    "        \n",
    "    def ProduceResults(b):\n",
    "        global speciesList\n",
    "        global Model\n",
    "        global ModelPath\n",
    "        global epochs\n",
    "        global epochNums\n",
    "        global speciesList\n",
    "        global saveString\n",
    "        \n",
    "        speciesList=Speciesbox.value\n",
    "        rasters=Rasterbox.value\n",
    "        tile_size=Tilebox.value\n",
    "        print(\"Rasters:\", rasters, \"  Species:\",speciesList, \"Tile Size=\",tile_size)\n",
    "        Speciesbox.close()\n",
    "        Rasterbox.close()\n",
    "        Tilebox.close()\n",
    "        Execute.close()\n",
    "        \n",
    "        for i in range(len(epochNums)):\n",
    "    \n",
    "            epoch=epochs[i]\n",
    "            epoch_num=epochNums[i]\n",
    "            Net.load_state_dict(torch.load(epoch))\n",
    "            for raster in rasters:\n",
    "                image_file_path=\".\\\\Data\\\\source\\\\rasters\\\\\"+raster \n",
    "                label_file_path=\".\\\\Data\\\\source\\\\labels\\\\\"+raster \n",
    "                save_as=saveString+raster[:-4]+'-Ep'+str(epoch_num)\n",
    "                RawPrediction, Lbl=vis2.GeneratePredictionWithLabel(Net, image_file_path,label_file_path, tilesize=tile_size, save_name=None)\n",
    "                df,ArgmaxMap=vis2.Pred2Result(RawPrediction, Lbl, save_as)\n",
    "                del RawPrediction\n",
    "                gc.collect()\n",
    "                cuda.empty_cache()\n",
    "                #ArgmaxMap=ArgmaxMapOnly(Net, image_file_path, tilesize=1600, save_name=None)\n",
    "                for s in speciesList:\n",
    "                    vis2.Argmax2ConfMap(ArgmaxMap,Lbl,save_as,species=s)\n",
    "                    print(s, \"saved\")\n",
    "        \n",
    "    \n",
    "    Execute.on_click(ProduceResults)\n",
    "\n",
    "    display(Rasterbox, Speciesbox, Execute)\n",
    "    \n",
    "    \n",
    "\n",
    "def processModel():\n",
    "    AcceptModel.close()\n",
    "    global AcceptEpochsButton\n",
    "    AcceptEpochsButton = widgets.Button(description='Accept & Proceed', disabled=False,button_style='')\n",
    "    ListEpochs = []\n",
    "    for file in os.listdir(ModelPath):\n",
    "        if file[-6:]=='.torch':\n",
    "            ListEpochs.append(file)\n",
    "\n",
    "    Epochsbox= widgets.SelectMultiple(options=ListEpochs,\n",
    "        value=[ListEpochs[0]],\n",
    "        rows=15,\n",
    "        description='Epochs:',\n",
    "        disabled=False)\n",
    "\n",
    "    def AcceptEpochs(b):\n",
    "        global epochs\n",
    "        global epochNums\n",
    "        global ModelPath\n",
    "        global Model\n",
    "        \n",
    "        for i in range(len(Epochsbox.value)):\n",
    "            epochs.append(ModelPath+Epochsbox.value[i])\n",
    "        for i in range(len(epochs)):\n",
    "            epochNums.append(epochs[i].split('/')[-1].split('-')[0])\n",
    "\n",
    "        Epochsbox.close()\n",
    "        Suggestionbox.close()\n",
    "        row1.close()\n",
    "        print(\"Epochs: \", epochs )\n",
    "        AcceptEpochsButton.close()\n",
    "        FinalOptions()\n",
    "        return\n",
    " \n",
    "    AcceptEpochsButton.on_click(AcceptEpochs)\n",
    "    \n",
    "    #===================================================\n",
    "    log_path='.\\\\Models\\\\'+Model+'\\\\'+\"Log for MC-\"+Model+'.csv'\n",
    "    best_epochs_suggestion='Suggested Epochs: '\n",
    "    for i in vis2.FindBestEpochs(log_path):\n",
    "        best_epochs_suggestion=best_epochs_suggestion+str(i)+', '\n",
    "    best_epochs_suggestion=best_epochs_suggestion[0:-2]\n",
    "    Suggestionbox=widgets.Label(best_epochs_suggestion)\n",
    "    \n",
    "    row1=widgets.HBox([Epochsbox,Suggestionbox])\n",
    "    display(row1, AcceptEpochsButton)\n",
    "\n",
    "\n",
    "\n",
    "ListModels = []\n",
    "for file in os.listdir(\".\\\\Models\\\\\"):\n",
    "    d = os.path.join(\".\\\\Models\\\\\", file)\n",
    "    if os.path.isdir(d):\n",
    "        ListModels.append(file)\n",
    "ListModels.remove('_usable')\n",
    "\n",
    "Modelsbox = widgets.Select(\n",
    "    options=ListModels,\n",
    "    value=ListModels[0],\n",
    "    rows=10,\n",
    "    description='Pick Model:',\n",
    "    disabled=False)\n",
    "\n",
    "AcceptModel = widgets.Button(description='Accept & Proceed', disabled=False,button_style='')\n",
    "\n",
    "def GetModel(b):\n",
    "    global Model\n",
    "    global ModelPath\n",
    "    Model=Modelsbox.value\n",
    "    ModelPath='./Models/'+ Model +'/'\n",
    "    Modelsbox.close()\n",
    "    print(\"Model: \", Model )\n",
    "    processModel()\n",
    "    return\n",
    " \n",
    "        \n",
    "AcceptModel.on_click(GetModel)\n",
    "\n",
    "display(Modelsbox, AcceptModel)\n",
    "\n",
    "\n"
   ]
  },
  {
   "cell_type": "code",
   "execution_count": null,
   "id": "7b1da854",
   "metadata": {},
   "outputs": [],
   "source": []
  }
 ],
 "metadata": {
  "kernelspec": {
   "display_name": "Python 3 (ipykernel)",
   "language": "python",
   "name": "python3"
  },
  "language_info": {
   "codemirror_mode": {
    "name": "ipython",
    "version": 3
   },
   "file_extension": ".py",
   "mimetype": "text/x-python",
   "name": "python",
   "nbconvert_exporter": "python",
   "pygments_lexer": "ipython3",
   "version": "3.9.16"
  }
 },
 "nbformat": 4,
 "nbformat_minor": 5
}
