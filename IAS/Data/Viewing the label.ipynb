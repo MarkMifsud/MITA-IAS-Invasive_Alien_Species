{
 "cells": [
  {
   "cell_type": "code",
   "execution_count": null,
   "id": "a9d122be",
   "metadata": {},
   "outputs": [],
   "source": [
    "import cv2 as cv\n",
    "import numpy as np\n",
    "from PIL import Image \n",
    "from IPython.display import Image\n",
    "import matplotlib.pyplot as plt\n",
    "\n",
    "\n",
    "label_file_path=\".\\\\source\\\\labels\\\\Ac10.tif\"\n",
    "img=cv.imread(label_file_path, cv.COLOR_GRAY2BGR)\n"
   ]
  },
  {
   "cell_type": "code",
   "execution_count": null,
   "id": "f4d90498",
   "metadata": {},
   "outputs": [],
   "source": [
    "arundo=img==10\n",
    "plt.imshow(arundo)"
   ]
  },
  {
   "cell_type": "code",
   "execution_count": null,
   "id": "cac08ab4",
   "metadata": {},
   "outputs": [],
   "source": [
    "opuntia=img==20\n",
    "plt.imshow(opuntia)"
   ]
  },
  {
   "cell_type": "code",
   "execution_count": null,
   "id": "dbf578ca",
   "metadata": {},
   "outputs": [],
   "source": [
    "class3=img==30\n",
    "plt.imshow(class3)"
   ]
  },
  {
   "cell_type": "code",
   "execution_count": null,
   "id": "8f40267b",
   "metadata": {},
   "outputs": [],
   "source": [
    "eucalyptus=img==40\n",
    "plt.imshow(eucalyptus)"
   ]
  },
  {
   "cell_type": "code",
   "execution_count": null,
   "id": "4c9da9e0",
   "metadata": {},
   "outputs": [],
   "source": [
    "agave=img==50\n",
    "plt.imshow(agave)"
   ]
  },
  {
   "cell_type": "code",
   "execution_count": null,
   "id": "255a338d",
   "metadata": {},
   "outputs": [],
   "source": [
    "acacia=img==60\n",
    "plt.imshow(acacia)"
   ]
  },
  {
   "cell_type": "code",
   "execution_count": null,
   "id": "63607f12",
   "metadata": {},
   "outputs": [],
   "source": []
  },
  {
   "cell_type": "code",
   "execution_count": null,
   "id": "13748009",
   "metadata": {},
   "outputs": [],
   "source": []
  },
  {
   "cell_type": "code",
   "execution_count": null,
   "id": "0854f3b9",
   "metadata": {},
   "outputs": [],
   "source": []
  },
  {
   "cell_type": "markdown",
   "id": "a6ff0acf",
   "metadata": {},
   "source": [
    "\n",
    "    "
   ]
  }
 ],
 "metadata": {
  "kernelspec": {
   "display_name": "Python 3 (ipykernel)",
   "language": "python",
   "name": "python3"
  },
  "language_info": {
   "codemirror_mode": {
    "name": "ipython",
    "version": 3
   },
   "file_extension": ".py",
   "mimetype": "text/x-python",
   "name": "python",
   "nbconvert_exporter": "python",
   "pygments_lexer": "ipython3",
   "version": "3.9.16"
  }
 },
 "nbformat": 4,
 "nbformat_minor": 5
}
