{
 "cells": [
  {
   "cell_type": "markdown",
   "id": "6fd6e59c",
   "metadata": {},
   "source": [
    "# Detection for single class models\n",
    "\n",
    "This Notebook is specific for detecting only a single class, rather than multiple classes at once.\n",
    "The detected class will depend on the class the model you choose was trained to detect.\n",
    "\n",
    "Feed a raster image to a trained model and returns an image marking where the species is likely."
   ]
  },
  {
   "cell_type": "code",
   "execution_count": 8,
   "id": "4b2d5a6f",
   "metadata": {},
   "outputs": [
    {
     "data": {
      "application/vnd.jupyter.widget-view+json": {
       "model_id": "",
       "version_major": 2,
       "version_minor": 0
      },
      "text/plain": [
       "Button(description='Start Detection', icon='eye', style=ButtonStyle(), tooltip='Click me')"
      ]
     },
     "metadata": {},
     "output_type": "display_data"
    },
    {
     "name": "stdout",
     "output_type": "stream",
     "text": [
      "No single class models were found inside the folder  .\\Models\\_usable_1_class\\\n"
     ]
    }
   ],
   "source": [
    "import detection\n",
    "detection.classes_count=2\n",
    "detection.usable_models_directory = \".\\\\Models\\\\_usable_1_class\\\\\""
   ]
  },
  {
   "cell_type": "code",
   "execution_count": null,
   "id": "fe29216f",
   "metadata": {},
   "outputs": [],
   "source": []
  }
 ],
 "metadata": {
  "kernelspec": {
   "display_name": "Python 3 (ipykernel)",
   "language": "python",
   "name": "python3"
  },
  "language_info": {
   "codemirror_mode": {
    "name": "ipython",
    "version": 3
   },
   "file_extension": ".py",
   "mimetype": "text/x-python",
   "name": "python",
   "nbconvert_exporter": "python",
   "pygments_lexer": "ipython3",
   "version": "3.9.16"
  }
 },
 "nbformat": 4,
 "nbformat_minor": 5
}
