{
 "cells": [
  {
   "cell_type": "code",
   "execution_count": 4,
   "id": "084a1c9b",
   "metadata": {},
   "outputs": [
    {
     "name": "stdout",
     "output_type": "stream",
     "text": [
      "^C\n"
     ]
    }
   ],
   "source": [
    "!pip3 install torch torchvision torchaudio --extra-index-url https://download.pytorch.org/whl/cu117"
   ]
  },
  {
   "cell_type": "code",
   "execution_count": null,
   "id": "f8198f6e",
   "metadata": {},
   "outputs": [],
   "source": [
    "!pip install numpy"
   ]
  },
  {
   "cell_type": "code",
   "execution_count": null,
   "id": "4478d5ae",
   "metadata": {},
   "outputs": [],
   "source": [
    "!pip install pandas"
   ]
  },
  {
   "cell_type": "code",
   "execution_count": null,
   "id": "82b00eab",
   "metadata": {},
   "outputs": [],
   "source": [
    "!pip install -U scikit-learn"
   ]
  },
  {
   "cell_type": "code",
   "execution_count": null,
   "id": "bd0fac9e",
   "metadata": {},
   "outputs": [],
   "source": [
    "!pip install -U matplotlib"
   ]
  },
  {
   "cell_type": "code",
   "execution_count": null,
   "id": "211aa05b",
   "metadata": {},
   "outputs": [],
   "source": [
    "!pip install -U segmentation-models-pytorch"
   ]
  },
  {
   "cell_type": "code",
   "execution_count": 3,
   "id": "52fc16f9",
   "metadata": {},
   "outputs": [
    {
     "name": "stdout",
     "output_type": "stream",
     "text": [
      "Defaulting to user installation because normal site-packages is not writeable\n",
      "Looking in indexes: https://pypi.org/simple, https://pypi.ngc.nvidia.com\n",
      "Collecting opencv-python\n",
      "  Downloading opencv_python-4.8.0.74-cp37-abi3-win_amd64.whl (38.1 MB)\n",
      "                                              0.0/38.1 MB ? eta -:--:--\n",
      "                                              0.0/38.1 MB 1.3 MB/s eta 0:00:30\n",
      "                                              0.2/38.1 MB 2.6 MB/s eta 0:00:15\n",
      "                                              0.4/38.1 MB 3.6 MB/s eta 0:00:11\n",
      "                                              0.7/38.1 MB 4.7 MB/s eta 0:00:08\n",
      "     -                                        1.0/38.1 MB 5.1 MB/s eta 0:00:08\n",
      "     -                                        1.2/38.1 MB 5.1 MB/s eta 0:00:08\n",
      "     -                                        1.5/38.1 MB 5.6 MB/s eta 0:00:07\n",
      "     -                                        1.8/38.1 MB 5.7 MB/s eta 0:00:07\n",
      "     --                                       2.0/38.1 MB 5.9 MB/s eta 0:00:07\n",
      "     --                                       2.3/38.1 MB 5.9 MB/s eta 0:00:07\n",
      "     --                                       2.6/38.1 MB 6.2 MB/s eta 0:00:06\n",
      "     ---                                      2.9/38.1 MB 6.1 MB/s eta 0:00:06\n",
      "     ---                                      3.1/38.1 MB 6.1 MB/s eta 0:00:06\n",
      "     ---                                      3.5/38.1 MB 6.3 MB/s eta 0:00:06\n",
      "     ---                                      3.7/38.1 MB 6.2 MB/s eta 0:00:06\n",
      "     ----                                     4.0/38.1 MB 6.4 MB/s eta 0:00:06\n",
      "     ----                                     4.3/38.1 MB 6.3 MB/s eta 0:00:06\n",
      "     ----                                     4.5/38.1 MB 6.4 MB/s eta 0:00:06\n",
      "     -----                                    4.8/38.1 MB 6.4 MB/s eta 0:00:06\n",
      "     -----                                    5.1/38.1 MB 6.4 MB/s eta 0:00:06\n",
      "     -----                                    5.4/38.1 MB 6.5 MB/s eta 0:00:06\n",
      "     -----                                    5.6/38.1 MB 6.4 MB/s eta 0:00:06\n",
      "     ------                                   5.9/38.1 MB 6.5 MB/s eta 0:00:05\n",
      "     ------                                   6.1/38.1 MB 6.4 MB/s eta 0:00:06\n",
      "     ------                                   6.4/38.1 MB 6.5 MB/s eta 0:00:05\n",
      "     ------                                   6.6/38.1 MB 6.4 MB/s eta 0:00:05\n",
      "     -------                                  6.9/38.1 MB 6.4 MB/s eta 0:00:05\n",
      "     -------                                  7.2/38.1 MB 6.4 MB/s eta 0:00:05\n",
      "     -------                                  7.5/38.1 MB 6.5 MB/s eta 0:00:05\n",
      "     --------                                 7.7/38.1 MB 6.5 MB/s eta 0:00:05\n",
      "     --------                                 8.0/38.1 MB 6.5 MB/s eta 0:00:05\n",
      "     --------                                 8.3/38.1 MB 6.5 MB/s eta 0:00:05\n",
      "     ---------                                8.6/38.1 MB 6.5 MB/s eta 0:00:05\n",
      "     ---------                                8.9/38.1 MB 6.5 MB/s eta 0:00:05\n",
      "     ---------                                9.2/38.1 MB 6.5 MB/s eta 0:00:05\n",
      "     ---------                                9.5/38.1 MB 6.6 MB/s eta 0:00:05\n",
      "     ----------                               9.8/38.1 MB 6.6 MB/s eta 0:00:05\n",
      "     ----------                               10.0/38.1 MB 6.5 MB/s eta 0:00:05\n",
      "     ----------                               10.3/38.1 MB 6.7 MB/s eta 0:00:05\n",
      "     -----------                              10.6/38.1 MB 6.7 MB/s eta 0:00:05\n",
      "     -----------                              10.8/38.1 MB 6.8 MB/s eta 0:00:04\n",
      "     -----------                              11.1/38.1 MB 6.8 MB/s eta 0:00:04\n",
      "     ------------                             11.4/38.1 MB 6.7 MB/s eta 0:00:04\n",
      "     ------------                             11.7/38.1 MB 6.8 MB/s eta 0:00:04\n",
      "     ------------                             12.0/38.1 MB 6.8 MB/s eta 0:00:04\n",
      "     ------------                             12.3/38.1 MB 6.8 MB/s eta 0:00:04\n",
      "     -------------                            12.5/38.1 MB 6.8 MB/s eta 0:00:04\n",
      "     -------------                            12.8/38.1 MB 6.8 MB/s eta 0:00:04\n",
      "     -------------                            13.1/38.1 MB 6.8 MB/s eta 0:00:04\n",
      "     --------------                           13.4/38.1 MB 6.8 MB/s eta 0:00:04\n",
      "     --------------                           13.6/38.1 MB 6.8 MB/s eta 0:00:04\n",
      "     --------------                           13.9/38.1 MB 6.8 MB/s eta 0:00:04\n",
      "     --------------                           14.2/38.1 MB 6.8 MB/s eta 0:00:04\n",
      "     ---------------                          14.5/38.1 MB 6.8 MB/s eta 0:00:04\n",
      "     ---------------                          14.7/38.1 MB 6.8 MB/s eta 0:00:04\n",
      "     ---------------                          15.0/38.1 MB 6.8 MB/s eta 0:00:04\n",
      "     ----------------                         15.3/38.1 MB 6.8 MB/s eta 0:00:04\n",
      "     ----------------                         15.6/38.1 MB 6.8 MB/s eta 0:00:04\n",
      "     ----------------                         15.9/38.1 MB 6.8 MB/s eta 0:00:04\n",
      "     ----------------                         16.1/38.1 MB 6.9 MB/s eta 0:00:04\n",
      "     -----------------                        16.4/38.1 MB 6.9 MB/s eta 0:00:04\n",
      "     -----------------                        16.7/38.1 MB 7.0 MB/s eta 0:00:04\n",
      "     -----------------                        17.0/38.1 MB 6.9 MB/s eta 0:00:04\n",
      "     ------------------                       17.2/38.1 MB 6.9 MB/s eta 0:00:04\n",
      "     ------------------                       17.5/38.1 MB 6.9 MB/s eta 0:00:03\n",
      "     ------------------                       17.8/38.1 MB 6.9 MB/s eta 0:00:03\n",
      "     ------------------                       18.1/38.1 MB 7.0 MB/s eta 0:00:03\n",
      "     -------------------                      18.4/38.1 MB 6.9 MB/s eta 0:00:03\n",
      "     -------------------                      18.6/38.1 MB 7.0 MB/s eta 0:00:03\n",
      "     -------------------                      18.9/38.1 MB 6.9 MB/s eta 0:00:03\n",
      "     --------------------                     19.2/38.1 MB 7.0 MB/s eta 0:00:03\n",
      "     --------------------                     19.5/38.1 MB 7.0 MB/s eta 0:00:03\n",
      "     --------------------                     19.7/38.1 MB 6.9 MB/s eta 0:00:03\n",
      "     ---------------------                    20.0/38.1 MB 7.0 MB/s eta 0:00:03\n",
      "     ---------------------                    20.3/38.1 MB 6.9 MB/s eta 0:00:03\n",
      "     ---------------------                    20.6/38.1 MB 7.0 MB/s eta 0:00:03\n",
      "     ---------------------                    20.8/38.1 MB 6.9 MB/s eta 0:00:03\n",
      "     ----------------------                   21.1/38.1 MB 7.0 MB/s eta 0:00:03\n",
      "     ----------------------                   21.4/38.1 MB 7.0 MB/s eta 0:00:03\n",
      "     ----------------------                   21.7/38.1 MB 6.9 MB/s eta 0:00:03\n",
      "     -----------------------                  21.9/38.1 MB 7.0 MB/s eta 0:00:03\n",
      "     -----------------------                  22.2/38.1 MB 6.9 MB/s eta 0:00:03\n",
      "     -----------------------                  22.5/38.1 MB 7.0 MB/s eta 0:00:03\n",
      "     -----------------------                  22.8/38.1 MB 6.9 MB/s eta 0:00:03\n",
      "     ------------------------                 23.1/38.1 MB 7.0 MB/s eta 0:00:03\n",
      "     ------------------------                 23.4/38.1 MB 6.9 MB/s eta 0:00:03\n",
      "     ------------------------                 23.7/38.1 MB 6.9 MB/s eta 0:00:03\n",
      "     -------------------------                24.1/38.1 MB 7.0 MB/s eta 0:00:03\n",
      "     -------------------------                24.4/38.1 MB 6.9 MB/s eta 0:00:02\n",
      "     --------------------------               24.8/38.1 MB 7.0 MB/s eta 0:00:02\n",
      "     --------------------------               25.0/38.1 MB 7.0 MB/s eta 0:00:02\n",
      "     --------------------------               25.3/38.1 MB 7.0 MB/s eta 0:00:02\n",
      "     --------------------------               25.6/38.1 MB 7.0 MB/s eta 0:00:02\n",
      "     ---------------------------              25.9/38.1 MB 7.0 MB/s eta 0:00:02\n",
      "     ---------------------------              26.1/38.1 MB 6.9 MB/s eta 0:00:02\n",
      "     ---------------------------              26.4/38.1 MB 7.0 MB/s eta 0:00:02\n",
      "     ----------------------------             26.7/38.1 MB 7.0 MB/s eta 0:00:02\n",
      "     ----------------------------             27.0/38.1 MB 7.0 MB/s eta 0:00:02\n",
      "     ----------------------------             27.4/38.1 MB 7.0 MB/s eta 0:00:02\n",
      "     -----------------------------            27.7/38.1 MB 7.0 MB/s eta 0:00:02\n",
      "     -----------------------------            27.9/38.1 MB 7.0 MB/s eta 0:00:02\n",
      "     -----------------------------            28.2/38.1 MB 7.0 MB/s eta 0:00:02\n",
      "     -----------------------------            28.5/38.1 MB 7.0 MB/s eta 0:00:02\n",
      "     ------------------------------           28.8/38.1 MB 7.0 MB/s eta 0:00:02\n",
      "     ------------------------------           29.0/38.1 MB 6.9 MB/s eta 0:00:02\n",
      "     ------------------------------           29.3/38.1 MB 7.0 MB/s eta 0:00:02\n",
      "     -------------------------------          29.6/38.1 MB 6.9 MB/s eta 0:00:02\n",
      "     -------------------------------          29.9/38.1 MB 7.0 MB/s eta 0:00:02\n",
      "     -------------------------------          30.2/38.1 MB 7.0 MB/s eta 0:00:02\n",
      "     -------------------------------          30.4/38.1 MB 7.0 MB/s eta 0:00:02\n",
      "     --------------------------------         30.7/38.1 MB 7.0 MB/s eta 0:00:02\n",
      "     --------------------------------         30.9/38.1 MB 6.9 MB/s eta 0:00:02\n",
      "     --------------------------------         31.2/38.1 MB 6.9 MB/s eta 0:00:01\n",
      "     ---------------------------------        31.5/38.1 MB 6.9 MB/s eta 0:00:01\n",
      "     ---------------------------------        31.8/38.1 MB 6.9 MB/s eta 0:00:01\n",
      "     ---------------------------------        32.1/38.1 MB 7.0 MB/s eta 0:00:01\n",
      "     ---------------------------------        32.3/38.1 MB 6.9 MB/s eta 0:00:01\n",
      "     ----------------------------------       32.6/38.1 MB 6.9 MB/s eta 0:00:01\n",
      "     ----------------------------------       32.9/38.1 MB 7.0 MB/s eta 0:00:01\n",
      "     ----------------------------------       33.1/38.1 MB 7.0 MB/s eta 0:00:01\n",
      "     -----------------------------------      33.4/38.1 MB 6.9 MB/s eta 0:00:01\n",
      "     -----------------------------------      33.6/38.1 MB 6.9 MB/s eta 0:00:01\n",
      "     -----------------------------------      33.9/38.1 MB 6.9 MB/s eta 0:00:01\n",
      "     -----------------------------------      34.2/38.1 MB 6.9 MB/s eta 0:00:01\n",
      "     ------------------------------------     34.5/38.1 MB 6.9 MB/s eta 0:00:01\n",
      "     ------------------------------------     34.7/38.1 MB 6.9 MB/s eta 0:00:01\n",
      "     ------------------------------------     35.0/38.1 MB 6.8 MB/s eta 0:00:01\n",
      "     -------------------------------------    35.3/38.1 MB 6.9 MB/s eta 0:00:01\n",
      "     -------------------------------------    35.6/38.1 MB 6.8 MB/s eta 0:00:01\n",
      "     -------------------------------------    35.9/38.1 MB 7.0 MB/s eta 0:00:01\n",
      "     -------------------------------------    36.1/38.1 MB 6.9 MB/s eta 0:00:01\n",
      "     --------------------------------------   36.4/38.1 MB 6.8 MB/s eta 0:00:01\n",
      "     --------------------------------------   36.7/38.1 MB 6.9 MB/s eta 0:00:01\n",
      "     --------------------------------------   37.0/38.1 MB 6.9 MB/s eta 0:00:01\n",
      "     ---------------------------------------  37.2/38.1 MB 6.9 MB/s eta 0:00:01\n",
      "     ---------------------------------------  37.5/38.1 MB 6.9 MB/s eta 0:00:01\n",
      "     ---------------------------------------  37.8/38.1 MB 6.8 MB/s eta 0:00:01\n",
      "     ---------------------------------------- 38.1/38.1 MB 6.9 MB/s eta 0:00:00\n",
      "Requirement already satisfied: numpy>=1.21.2 in c:\\programdata\\anaconda3\\lib\\site-packages (from opencv-python) (1.24.3)\n",
      "Installing collected packages: opencv-python\n",
      "Successfully installed opencv-python-4.8.0.74\n"
     ]
    }
   ],
   "source": [
    "!pip install opencv-python"
   ]
  },
  {
   "cell_type": "code",
   "execution_count": null,
   "id": "bf0b8d4f",
   "metadata": {},
   "outputs": [],
   "source": [
    "!pip install DateTime"
   ]
  },
  {
   "cell_type": "code",
   "execution_count": null,
   "id": "ded3e902",
   "metadata": {},
   "outputs": [],
   "source": [
    "!pip install tqdm"
   ]
  },
  {
   "cell_type": "code",
   "execution_count": null,
   "id": "cf8d8373",
   "metadata": {},
   "outputs": [],
   "source": [
    "!conda install -c anaconda cudatoolkit"
   ]
  },
  {
   "cell_type": "markdown",
   "id": "4b3df71a",
   "metadata": {},
   "source": [
    "# Testing installs"
   ]
  },
  {
   "cell_type": "code",
   "execution_count": null,
   "id": "18443401",
   "metadata": {},
   "outputs": [],
   "source": [
    "!conda list"
   ]
  },
  {
   "cell_type": "code",
   "execution_count": null,
   "id": "fbea9bd2",
   "metadata": {},
   "outputs": [],
   "source": [
    "import torch\n",
    "device = torch.device('cuda') if torch.cuda.is_available() else torch.device('cpu')\n",
    "device"
   ]
  },
  {
   "cell_type": "code",
   "execution_count": null,
   "id": "3edd4a64",
   "metadata": {},
   "outputs": [],
   "source": [
    "print (\"cuda version: \", torch.backends.cudnn.version() )"
   ]
  },
  {
   "cell_type": "code",
   "execution_count": null,
   "id": "993e519b",
   "metadata": {},
   "outputs": [],
   "source": [
    "torch. __version__"
   ]
  },
  {
   "cell_type": "code",
   "execution_count": null,
   "id": "130a1f38",
   "metadata": {},
   "outputs": [],
   "source": []
  }
 ],
 "metadata": {
  "kernelspec": {
   "display_name": "Python 3 (ipykernel)",
   "language": "python",
   "name": "python3"
  },
  "language_info": {
   "codemirror_mode": {
    "name": "ipython",
    "version": 3
   },
   "file_extension": ".py",
   "mimetype": "text/x-python",
   "name": "python",
   "nbconvert_exporter": "python",
   "pygments_lexer": "ipython3",
   "version": "3.11.3"
  }
 },
 "nbformat": 4,
 "nbformat_minor": 5
}
