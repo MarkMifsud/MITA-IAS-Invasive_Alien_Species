{
 "cells": [
  {
   "cell_type": "markdown",
   "id": "6fd6e59c",
   "metadata": {},
   "source": [
    "# Detection of multiple species\n",
    "This notebook is used to feed a raster image to a trained model trained for multiple species, and let it returns an image marking where the species are likely. "
   ]
  },
  {
   "cell_type": "code",
   "execution_count": 1,
   "id": "4b2d5a6f",
   "metadata": {},
   "outputs": [
    {
     "data": {
      "application/vnd.jupyter.widget-view+json": {
       "model_id": "",
       "version_major": 2,
       "version_minor": 0
      },
      "text/plain": [
       "Button(description='Start Detection', icon='eye', style=ButtonStyle(), tooltip='Click me')"
      ]
     },
     "metadata": {},
     "output_type": "display_data"
    },
    {
     "data": {
      "application/vnd.jupyter.widget-view+json": {
       "model_id": "09c4649c2d4d45698fec8ce12041dd61",
       "version_major": 2,
       "version_minor": 0
      },
      "text/plain": [
       "HBox(children=(Select(description='Model:', options=('10 class monster.torch', '298-Ar1-25 Revised.torch', '30…"
      ]
     },
     "metadata": {},
     "output_type": "display_data"
    },
    {
     "data": {
      "application/vnd.jupyter.widget-view+json": {
       "model_id": "8c440187bb174199b44f2308636dc418",
       "version_major": 2,
       "version_minor": 0
      },
      "text/plain": [
       "HBox(children=(IntText(value=1024, description='Tile Size:'), Text(value='detection1046-13-7-2023', descriptio…"
      ]
     },
     "metadata": {},
     "output_type": "display_data"
    },
    {
     "data": {
      "application/vnd.jupyter.widget-view+json": {
       "model_id": "090b46a97cc049da87faf1aab1ff0c2c",
       "version_major": 2,
       "version_minor": 0
      },
      "text/plain": [
       "Button(description='Accept & Proceed', icon='check', style=ButtonStyle(), tooltip='Click me')"
      ]
     },
     "metadata": {},
     "output_type": "display_data"
    }
   ],
   "source": [
    "import detection\n"
   ]
  },
  {
   "cell_type": "code",
   "execution_count": null,
   "id": "f5956b52",
   "metadata": {},
   "outputs": [],
   "source": []
  }
 ],
 "metadata": {
  "kernelspec": {
   "display_name": "Python 3 (ipykernel)",
   "language": "python",
   "name": "python3"
  },
  "language_info": {
   "codemirror_mode": {
    "name": "ipython",
    "version": 3
   },
   "file_extension": ".py",
   "mimetype": "text/x-python",
   "name": "python",
   "nbconvert_exporter": "python",
   "pygments_lexer": "ipython3",
   "version": "3.9.16"
  }
 },
 "nbformat": 4,
 "nbformat_minor": 5
}
