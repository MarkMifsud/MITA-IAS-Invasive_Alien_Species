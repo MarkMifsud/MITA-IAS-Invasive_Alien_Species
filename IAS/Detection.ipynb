{
 "cells": [
  {
   "cell_type": "markdown",
   "id": "6fd6e59c",
   "metadata": {},
   "source": [
    "# Detection\n",
    "Feeds a raster image to a trained model and returns an image marking where species are likely."
   ]
  },
  {
   "cell_type": "code",
   "execution_count": null,
   "id": "4b2d5a6f",
   "metadata": {},
   "outputs": [],
   "source": [
    "import detection\n"
   ]
  }
 ],
 "metadata": {
  "kernelspec": {
   "display_name": "Python 3 (ipykernel)",
   "language": "python",
   "name": "python3"
  },
  "language_info": {
   "codemirror_mode": {
    "name": "ipython",
    "version": 3
   },
   "file_extension": ".py",
   "mimetype": "text/x-python",
   "name": "python",
   "nbconvert_exporter": "python",
   "pygments_lexer": "ipython3",
   "version": "3.9.16"
  }
 },
 "nbformat": 4,
 "nbformat_minor": 5
}
