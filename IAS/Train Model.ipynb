{
 "cells": [
  {
   "cell_type": "markdown",
   "id": "d6f447ed",
   "metadata": {},
   "source": [
    "# Train Model\n",
    "\n",
    "Used to train a Unet++ model with default parameters"
   ]
  },
  {
   "cell_type": "code",
   "execution_count": null,
   "id": "9c9595b1",
   "metadata": {
    "scrolled": true
   },
   "outputs": [],
   "source": [
    "import trainmodel"
   ]
  },
  {
   "cell_type": "code",
   "execution_count": null,
   "id": "f69d5f92",
   "metadata": {
    "scrolled": true
   },
   "outputs": [],
   "source": []
  }
 ],
 "metadata": {
  "kernelspec": {
   "display_name": "Python 3 (ipykernel)",
   "language": "python",
   "name": "python3"
  },
  "language_info": {
   "codemirror_mode": {
    "name": "ipython",
    "version": 3
   },
   "file_extension": ".py",
   "mimetype": "text/x-python",
   "name": "python",
   "nbconvert_exporter": "python",
   "pygments_lexer": "ipython3",
   "version": "3.9.16"
  }
 },
 "nbformat": 4,
 "nbformat_minor": 5
}
