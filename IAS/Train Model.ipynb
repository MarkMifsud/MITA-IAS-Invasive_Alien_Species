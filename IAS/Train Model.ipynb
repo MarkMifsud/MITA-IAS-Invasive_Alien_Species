{
 "cells": [
  {
   "cell_type": "markdown",
   "id": "d6f447ed",
   "metadata": {},
   "source": [
    "# Train Model\n",
    "\n",
    "Used to train a Unet++ model with default parameters"
   ]
  },
  {
   "cell_type": "code",
   "execution_count": 1,
   "id": "9c9595b1",
   "metadata": {},
   "outputs": [
    {
     "data": {
      "application/vnd.jupyter.widget-view+json": {
       "model_id": "6565c1dd71e441e58dd0cba4c5bfb856",
       "version_major": 2,
       "version_minor": 0
      },
      "text/plain": [
       "HBox(children=(Select(description='Train:', options=('A12346789ABm', 'A12346789ABm-512', 'A4m', 'A4m-512', 'A5…"
      ]
     },
     "metadata": {},
     "output_type": "display_data"
    },
    {
     "data": {
      "application/vnd.jupyter.widget-view+json": {
       "model_id": "dfe0f217497a44deaadb8061a2935c29",
       "version_major": 2,
       "version_minor": 0
      },
      "text/plain": [
       "HBox(children=(IntText(value=32, description='Batch Size:'), IntText(value=300, description='Epochs:')))"
      ]
     },
     "metadata": {},
     "output_type": "display_data"
    },
    {
     "data": {
      "application/vnd.jupyter.widget-view+json": {
       "model_id": "e82cb04628ba4796a4cae3084bffff57",
       "version_major": 2,
       "version_minor": 0
      },
      "text/plain": [
       "Button(description='Accept', icon='check', style=ButtonStyle(), tooltip='Click me')"
      ]
     },
     "metadata": {},
     "output_type": "display_data"
    }
   ],
   "source": [
    "import trainmodel"
   ]
  },
  {
   "cell_type": "code",
   "execution_count": null,
   "id": "38775814",
   "metadata": {},
   "outputs": [],
   "source": []
  }
 ],
 "metadata": {
  "kernelspec": {
   "display_name": "Python 3 (ipykernel)",
   "language": "python",
   "name": "python3"
  },
  "language_info": {
   "codemirror_mode": {
    "name": "ipython",
    "version": 3
   },
   "file_extension": ".py",
   "mimetype": "text/x-python",
   "name": "python",
   "nbconvert_exporter": "python",
   "pygments_lexer": "ipython3",
   "version": "3.9.16"
  }
 },
 "nbformat": 4,
 "nbformat_minor": 5
}
