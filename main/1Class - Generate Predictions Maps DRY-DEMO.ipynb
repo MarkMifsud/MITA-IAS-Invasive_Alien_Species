{
 "cells": [
  {
   "cell_type": "markdown",
   "id": "70c82e46",
   "metadata": {},
   "source": [
    "# Create detection maps, heat maps or confusion maps\n",
    "## Using the visualisations library"
   ]
  },
  {
   "cell_type": "code",
   "execution_count": 3,
   "id": "fe3fc49c",
   "metadata": {},
   "outputs": [],
   "source": [
    "import os\n",
    "import glob\n",
    "import cv2\n",
    "import pandas as pd\n",
    "import segmentation_models_pytorch as smp\n",
    "import torch\n",
    "import torchvision.transforms as tf\n",
    " \n",
    "import visualisations as vis\n",
    "\n",
    "from PIL import Image \n",
    "import matplotlib.pyplot as plt \n",
    "\n",
    "device = torch.device('cuda') if torch.cuda.is_available() else torch.device('cpu')"
   ]
  },
  {
   "cell_type": "code",
   "execution_count": 4,
   "id": "13c305b0",
   "metadata": {},
   "outputs": [
    {
     "name": "stdout",
     "output_type": "stream",
     "text": [
      "LIST OF FUNCTIONS:\n",
      "\n",
      "visualsations.WhiteMap: Creates a Black & White prediction map. Black<50% , White>50% \n",
      "visualsations.GrayMap: Creates a grayscale prediction map. Black=0% , White=100% \n",
      "visualsations.HeatMap: Creates a Graded Heat Map. Black=0% , Red=50%, Green=75%, Blue=100% \n",
      "visualsations.SimpleHeatMap: Creates a Simplified Heat Map. 0%=<Black <25%<= Red <50%<= Green <75%<= Blue\n",
      "visualsations.ConfusionMatrixForModel: Maps the Confusion Matrix. Black=TN Red=FP Green=TP Blue=FN\n",
      "visualsations.PRCurve: Generates a Confusion Map, a CSV file with Confusion Matrix details including Precision & Recall and plots a PRCurve for a number of Thresholds\n",
      "visualsations.Netname: Generates string based on Model and backbone for naming files according to that data\n",
      "\n",
      "________________________________\n",
      "MORE DETAILS:\n",
      "\n",
      "WhiteMap(Net,image_file_path,label_file_path,singleclass=10,tilesize=3200, CutoffPoint=0.5,save_name='White Prediction Map') \n",
      "\n",
      "GrayMap(Net,image_file_path,label_file_path,singleclass=10,tilesize=3200, CutoffPoint=0.5,save_name='White Prediction Map') \n",
      "\n",
      "HeatMap(Net,image_file_path,label_file_path, singleclass=10,tilesize=3200,CutoffPoint=0,save_name='HeatMap') \n",
      "returns  boolean value indicating if saving the heatmap was successful\n",
      "\n",
      "ConfusionMatrixForModel(Net, image_file_path, label_file_path,singleclass=10,tilesize=3200, threshold=0.5,save_name='Confusion Matrix')\n",
      "returns TP,FP,FN,TN \n",
      "\n",
      "PRCurve(Net, image_file_path, label_file_path, threshold_List=Default_threshold_List, singleclass=10 )\n",
      "returns a pandas datasheet for the PRCurve \n",
      "\n",
      "EpochSelection(model, log_path, image_file_path, label_file_path,  EpochsToTest=[24,49,74,99], CutoffPoint=0, singleclass=10,tilesize=3200,threshold=0.5) \n",
      "returns a pandas datasheet for each epoch. Also saves Confusion Maps and heat maps for each in the Checkpoints folder\n"
     ]
    }
   ],
   "source": [
    "vis.function_list()  # describes the functions available in the library"
   ]
  },
  {
   "cell_type": "markdown",
   "id": "1accfb61",
   "metadata": {},
   "source": [
    "## Get the raster to perform prediction on \n",
    "and the label to compare to"
   ]
  },
  {
   "cell_type": "code",
   "execution_count": null,
   "id": "54d9866b",
   "metadata": {},
   "outputs": [],
   "source": [
    "image_file_path=\".\\\\Data\\\\source\\\\rasters\\\\Arundo4.tif\"\n",
    "label_file_path=\".\\\\Data\\\\source\\\\labels\\\\Arundo4.png\""
   ]
  },
  {
   "cell_type": "markdown",
   "id": "acaaa392",
   "metadata": {},
   "source": [
    "## Load the model and necessary functions"
   ]
  },
  {
   "cell_type": "code",
   "execution_count": null,
   "id": "88991a13",
   "metadata": {},
   "outputs": [],
   "source": [
    "\n",
    "model = smp.UnetPlusPlus(\n",
    "    encoder_name=\"resnet152\",        # choose encoder, e.g. mobilenet_v2 or efficientnet-b7\n",
    "    encoder_weights=None,     # use None or `imagenet` pre-trained weights for encoder initialization\n",
    "    in_channels=3,                  # model input channels (1 for gray-scale images, 3 for RGB, etc.)\n",
    "    classes=2,                      # model output channels (number of classes in your dataset)\n",
    "    #activation='softmax',\n",
    ")\n",
    "\n",
    "Net = model # Load net\n",
    "Net=Net.to(device)\n",
    "modelPath = '101-UNETppRN152-onA4.torch'  # Path where trained model is saved\n",
    "Net.load_state_dict(torch.load(modelPath))\n",
    "\n"
   ]
  },
  {
   "cell_type": "code",
   "execution_count": null,
   "id": "47ad4ffb",
   "metadata": {},
   "outputs": [],
   "source": [
    "TP,FP,FN,TN=vis.ConfusionMatrixForModel(Net, image_file_path, label_file_path,singleclass=10,save_name=vis.Netname(Net)+'ConfMatrix')"
   ]
  },
  {
   "cell_type": "code",
   "execution_count": null,
   "id": "cc200bac",
   "metadata": {},
   "outputs": [],
   "source": [
    "vis.HeatMap(Net,image_file_path,label_file_path, save_name=vis.Netname(Net)+'HeatMap')"
   ]
  },
  {
   "cell_type": "code",
   "execution_count": null,
   "id": "6be9b350",
   "metadata": {},
   "outputs": [],
   "source": [
    "vis.UnevenHeatMap(Net,image_file_path,label_file_path, save_name=vis.Netname(Net)+'HeatMapSelfNormalised')"
   ]
  },
  {
   "cell_type": "code",
   "execution_count": null,
   "id": "e990d6cb",
   "metadata": {},
   "outputs": [],
   "source": [
    " "
   ]
  },
  {
   "cell_type": "code",
   "execution_count": null,
   "id": "d00c028b",
   "metadata": {},
   "outputs": [],
   "source": [
    "#image, Lbl, blank, xMoves, yMoves, StrideX, StrideY, height, width= vis.prepareImages(image_file_path, label_file_path, singleclass=10,tilesize=3200)"
   ]
  },
  {
   "cell_type": "code",
   "execution_count": null,
   "id": "dca24442",
   "metadata": {},
   "outputs": [],
   "source": [
    "#vis.WhiteMap(Net,image_file_path,label_file_path, CutoffPoint=0.5,tilesize=3200,save_name='White Prediction Map')"
   ]
  },
  {
   "cell_type": "markdown",
   "id": "2a47ce29",
   "metadata": {},
   "source": [
    " \n",
    "processing Image...\n",
    "empty pixels: 88450632    filled pixles: 373736392\n",
    "H: 11366   W: 40664   C: 3\n",
    "936  more pixels to be added to the left. New width is: 41600\n",
    "1434  more pixels to be added at the bottom. New height is: 12800\n",
    "Loop will move  13.0  horizontally, for  4.0  different heights\n",
    "image:  (12800, 41600, 3)   blank:  (12800, 41600)\n",
    "processing Label...\n",
    "(12800, 41600)\n",
    "row  0: 0 max: 0.12299535423517227\n",
    "min: -20.086387634277344\n",
    "1 max: 3.631528377532959\n",
    "min: -20.83282470703125\n",
    "2 min: -21.720478057861328\n",
    "3 4 5 6 7 min: -22.223682403564453\n",
    "8 9 10 11 12 min: -22.601900100708008\n",
    "row  1: 0 1 max: 5.325089931488037\n",
    "2 3 min: -23.305578231811523\n",
    "4 min: -24.378549575805664\n",
    "5 max: 5.736616134643555\n",
    "6 max: 6.090846061706543\n",
    "7 8 9 10 11 12 row  2: 0 1 2 3 4 5 min: -25.23709487915039\n",
    "6 7 8 9 10 11 12 row  3: 0 1 2 min: -29.25381088256836\n",
    "3 4 min: -29.477954864501953\n",
    "5 6 7 8 9 10 11 12 saving result...\n",
    "White Prediction Map .png has been saved"
   ]
  },
  {
   "cell_type": "code",
   "execution_count": null,
   "id": "6bf3e5cb",
   "metadata": {},
   "outputs": [],
   "source": []
  },
  {
   "cell_type": "code",
   "execution_count": null,
   "id": "17275f44",
   "metadata": {},
   "outputs": [],
   "source": []
  },
  {
   "cell_type": "code",
   "execution_count": 2,
   "id": "0a77ac50",
   "metadata": {},
   "outputs": [],
   "source": [
    "model = smp.MAnet(\n",
    "    encoder_name=\"resnet152\",        # choose encoder, e.g. mobilenet_v2 or efficientnet-b7\n",
    "    encoder_weights=None,     # use None or `imagenet` pre-trained weights for encoder initialization\n",
    "    in_channels=3,                  # model input channels (1 for gray-scale images, 3 for RGB, etc.)\n",
    "    classes=2,                      # model output channels (number of classes in your dataset)\n",
    "    activation='softmax',\n",
    ")"
   ]
  },
  {
   "cell_type": "code",
   "execution_count": 4,
   "id": "c125b6db",
   "metadata": {},
   "outputs": [],
   "source": [
    "image_file_path=\".\\\\Data\\\\source\\\\rasters\\\\Arundo5.tif\"\n",
    "label_file_path=\".\\\\Data\\\\source\\\\labels\\\\Ar_Op_3_Eu_5-LABEL.tif\""
   ]
  },
  {
   "cell_type": "code",
   "execution_count": 5,
   "id": "3c9c50e3",
   "metadata": {},
   "outputs": [
    {
     "name": "stdout",
     "output_type": "stream",
     "text": [
      "loading epoch: 19  at Checkpoint: MAnet-ResNetEnc-162-12-12-2022/19-2257-MAnet-ResNetEnc.torch\n",
      "processing Image...\n",
      "processing Label...\n",
      "(35200, 22400)\n",
      "Generating Confusion Map\n"
     ]
    },
    {
     "name": "stderr",
     "output_type": "stream",
     "text": [
      "100%|██████████████████████████████████████████████████████████████████████████████████| 11/11 [03:22<00:00, 18.44s/it]\n"
     ]
    },
    {
     "name": "stdout",
     "output_type": "stream",
     "text": [
      "./MAnet-ResNetEnc-162-12-12-2022/MAnet-ResNetEncConfMatrix-Epoch19-Arundo5  |  (32969, 20803, 3)  | Saved Successfully=  True\n",
      "TP: 7845744   FP: 672078\n",
      "FN: 545840   TN: 319326335\n",
      "\n",
      "Correct  : 327172079  = 99.62911987304688 %\n",
      "Incorrect: 1217918  = 0.3708754777908325 %\n",
      "\n",
      "Accuracy: 99.629 %\n",
      "processing Image...\n",
      "processing Label...\n",
      "(35200, 22400)\n"
     ]
    },
    {
     "name": "stderr",
     "output_type": "stream",
     "text": [
      "100%|██████████████████████████████████████████████████████████████████████████████████| 11/11 [02:42<00:00, 14.75s/it]\n"
     ]
    },
    {
     "name": "stdout",
     "output_type": "stream",
     "text": [
      "Generating Heat Map\n"
     ]
    },
    {
     "name": "stderr",
     "output_type": "stream",
     "text": [
      "100%|██████████████████████████████████████████████████████████████████████████████████| 11/11 [01:51<00:00, 10.18s/it]\n"
     ]
    },
    {
     "name": "stdout",
     "output_type": "stream",
     "text": [
      "loading epoch: 38  at Checkpoint: MAnet-ResNetEnc-162-12-12-2022/38-454-MAnet-ResNetEnc.torch\n",
      "processing Image...\n",
      "processing Label...\n",
      "(35200, 22400)\n",
      "Generating Confusion Map\n"
     ]
    },
    {
     "name": "stderr",
     "output_type": "stream",
     "text": [
      "100%|██████████████████████████████████████████████████████████████████████████████████| 11/11 [03:25<00:00, 18.66s/it]\n"
     ]
    },
    {
     "name": "stdout",
     "output_type": "stream",
     "text": [
      "./MAnet-ResNetEnc-162-12-12-2022/MAnet-ResNetEncConfMatrix-Epoch38-Arundo5  |  (32969, 20803, 3)  | Saved Successfully=  True\n",
      "TP: 7425950   FP: 437177\n",
      "FN: 965634   TN: 319561236\n",
      "\n",
      "Correct  : 326987186  = 99.57283020019531 %\n",
      "Incorrect: 1402811  = 0.42717838287353516 %\n",
      "\n",
      "Accuracy: 99.573 %\n",
      "processing Image...\n",
      "processing Label...\n",
      "(35200, 22400)\n"
     ]
    },
    {
     "name": "stderr",
     "output_type": "stream",
     "text": [
      "100%|██████████████████████████████████████████████████████████████████████████████████| 11/11 [02:45<00:00, 15.01s/it]\n"
     ]
    },
    {
     "name": "stdout",
     "output_type": "stream",
     "text": [
      "Generating Heat Map\n"
     ]
    },
    {
     "name": "stderr",
     "output_type": "stream",
     "text": [
      "100%|██████████████████████████████████████████████████████████████████████████████████| 11/11 [01:50<00:00, 10.05s/it]\n"
     ]
    },
    {
     "name": "stdout",
     "output_type": "stream",
     "text": [
      "loading epoch: 43  at Checkpoint: MAnet-ResNetEnc-162-12-12-2022/43-627-MAnet-ResNetEnc.torch\n",
      "processing Image...\n",
      "processing Label...\n",
      "(35200, 22400)\n",
      "Generating Confusion Map\n"
     ]
    },
    {
     "name": "stderr",
     "output_type": "stream",
     "text": [
      "100%|██████████████████████████████████████████████████████████████████████████████████| 11/11 [03:26<00:00, 18.76s/it]\n"
     ]
    },
    {
     "name": "stdout",
     "output_type": "stream",
     "text": [
      "./MAnet-ResNetEnc-162-12-12-2022/MAnet-ResNetEncConfMatrix-Epoch43-Arundo5  |  (32969, 20803, 3)  | Saved Successfully=  True\n",
      "TP: 7528927   FP: 366082\n",
      "FN: 862657   TN: 319632331\n",
      "\n",
      "Correct  : 327161258  = 99.6258316040039 %\n",
      "Incorrect: 1228739  = 0.3741706609725952 %\n",
      "\n",
      "Accuracy: 99.626 %\n",
      "processing Image...\n",
      "processing Label...\n",
      "(35200, 22400)\n"
     ]
    },
    {
     "name": "stderr",
     "output_type": "stream",
     "text": [
      "100%|██████████████████████████████████████████████████████████████████████████████████| 11/11 [02:43<00:00, 14.83s/it]\n"
     ]
    },
    {
     "name": "stdout",
     "output_type": "stream",
     "text": [
      "Generating Heat Map\n"
     ]
    },
    {
     "name": "stderr",
     "output_type": "stream",
     "text": [
      "100%|██████████████████████████████████████████████████████████████████████████████████| 11/11 [01:47<00:00,  9.79s/it]\n"
     ]
    },
    {
     "name": "stdout",
     "output_type": "stream",
     "text": [
      "loading epoch: 44  at Checkpoint: MAnet-ResNetEnc-162-12-12-2022/44-646-MAnet-ResNetEnc.torch\n",
      "processing Image...\n",
      "processing Label...\n",
      "(35200, 22400)\n",
      "Generating Confusion Map\n"
     ]
    },
    {
     "name": "stderr",
     "output_type": "stream",
     "text": [
      "100%|██████████████████████████████████████████████████████████████████████████████████| 11/11 [03:22<00:00, 18.45s/it]\n"
     ]
    },
    {
     "name": "stdout",
     "output_type": "stream",
     "text": [
      "./MAnet-ResNetEnc-162-12-12-2022/MAnet-ResNetEncConfMatrix-Epoch44-Arundo5  |  (32969, 20803, 3)  | Saved Successfully=  True\n",
      "TP: 7557868   FP: 377795\n",
      "FN: 833716   TN: 319620618\n",
      "\n",
      "Correct  : 327178486  = 99.6310806274414 %\n",
      "Incorrect: 1211511  = 0.36892446875572205 %\n",
      "\n",
      "Accuracy: 99.631 %\n",
      "processing Image...\n",
      "processing Label...\n",
      "(35200, 22400)\n"
     ]
    },
    {
     "name": "stderr",
     "output_type": "stream",
     "text": [
      "100%|██████████████████████████████████████████████████████████████████████████████████| 11/11 [02:41<00:00, 14.69s/it]\n"
     ]
    },
    {
     "name": "stdout",
     "output_type": "stream",
     "text": [
      "Generating Heat Map\n"
     ]
    },
    {
     "name": "stderr",
     "output_type": "stream",
     "text": [
      "100%|██████████████████████████████████████████████████████████████████████████████████| 11/11 [01:46<00:00,  9.71s/it]\n"
     ]
    },
    {
     "name": "stdout",
     "output_type": "stream",
     "text": [
      "loading epoch: 47  at Checkpoint: MAnet-ResNetEnc-162-12-12-2022/47-743-MAnet-ResNetEnc.torch\n",
      "processing Image...\n",
      "processing Label...\n",
      "(35200, 22400)\n",
      "Generating Confusion Map\n"
     ]
    },
    {
     "name": "stderr",
     "output_type": "stream",
     "text": [
      "100%|██████████████████████████████████████████████████████████████████████████████████| 11/11 [03:27<00:00, 18.83s/it]\n"
     ]
    },
    {
     "name": "stdout",
     "output_type": "stream",
     "text": [
      "./MAnet-ResNetEnc-162-12-12-2022/MAnet-ResNetEncConfMatrix-Epoch47-Arundo5  |  (32969, 20803, 3)  | Saved Successfully=  True\n",
      "TP: 7372103   FP: 285984\n",
      "FN: 1019481   TN: 319712429\n",
      "\n",
      "Correct  : 327084532  = 99.60247039794922 %\n",
      "Incorrect: 1305465  = 0.39753493666648865 %\n",
      "\n",
      "Accuracy: 99.602 %\n",
      "processing Image...\n",
      "processing Label...\n",
      "(35200, 22400)\n"
     ]
    },
    {
     "name": "stderr",
     "output_type": "stream",
     "text": [
      "100%|██████████████████████████████████████████████████████████████████████████████████| 11/11 [02:42<00:00, 14.74s/it]\n"
     ]
    },
    {
     "name": "stdout",
     "output_type": "stream",
     "text": [
      "Generating Heat Map\n"
     ]
    },
    {
     "name": "stderr",
     "output_type": "stream",
     "text": [
      "100%|██████████████████████████████████████████████████████████████████████████████████| 11/11 [01:49<00:00,  9.97s/it]\n"
     ]
    },
    {
     "name": "stdout",
     "output_type": "stream",
     "text": [
      "loading epoch: 48  at Checkpoint: MAnet-ResNetEnc-162-12-12-2022/48-82-MAnet-ResNetEnc.torch\n",
      "processing Image...\n",
      "processing Label...\n",
      "(35200, 22400)\n",
      "Generating Confusion Map\n"
     ]
    },
    {
     "name": "stderr",
     "output_type": "stream",
     "text": [
      "100%|██████████████████████████████████████████████████████████████████████████████████| 11/11 [03:24<00:00, 18.57s/it]\n"
     ]
    },
    {
     "name": "stdout",
     "output_type": "stream",
     "text": [
      "./MAnet-ResNetEnc-162-12-12-2022/MAnet-ResNetEncConfMatrix-Epoch48-Arundo5  |  (32969, 20803, 3)  | Saved Successfully=  True\n",
      "TP: 7493594   FP: 417648\n",
      "FN: 897990   TN: 319580765\n",
      "\n",
      "Correct  : 327074359  = 99.59937286376953 %\n",
      "Incorrect: 1315638  = 0.4006327986717224 %\n",
      "\n",
      "Accuracy: 99.599 %\n",
      "processing Image...\n",
      "processing Label...\n",
      "(35200, 22400)\n"
     ]
    },
    {
     "name": "stderr",
     "output_type": "stream",
     "text": [
      "100%|██████████████████████████████████████████████████████████████████████████████████| 11/11 [02:45<00:00, 15.02s/it]\n"
     ]
    },
    {
     "name": "stdout",
     "output_type": "stream",
     "text": [
      "Generating Heat Map\n"
     ]
    },
    {
     "name": "stderr",
     "output_type": "stream",
     "text": [
      "100%|██████████████████████████████████████████████████████████████████████████████████| 11/11 [01:46<00:00,  9.69s/it]\n"
     ]
    },
    {
     "name": "stdout",
     "output_type": "stream",
     "text": [
      "loading epoch: 55  at Checkpoint: MAnet-ResNetEnc-162-12-12-2022/55-1019-MAnet-ResNetEnc.torch\n",
      "processing Image...\n",
      "processing Label...\n",
      "(35200, 22400)\n",
      "Generating Confusion Map\n"
     ]
    },
    {
     "name": "stderr",
     "output_type": "stream",
     "text": [
      "100%|██████████████████████████████████████████████████████████████████████████████████| 11/11 [03:23<00:00, 18.52s/it]\n"
     ]
    },
    {
     "name": "stdout",
     "output_type": "stream",
     "text": [
      "./MAnet-ResNetEnc-162-12-12-2022/MAnet-ResNetEncConfMatrix-Epoch55-Arundo5  |  (32969, 20803, 3)  | Saved Successfully=  True\n",
      "TP: 7265184   FP: 265360\n",
      "FN: 1126400   TN: 319733053\n",
      "\n",
      "Correct  : 326998237  = 99.5761947631836 %\n",
      "Incorrect: 1391760  = 0.42381319403648376 %\n",
      "\n",
      "Accuracy: 99.576 %\n",
      "processing Image...\n",
      "processing Label...\n",
      "(35200, 22400)\n"
     ]
    },
    {
     "name": "stderr",
     "output_type": "stream",
     "text": [
      "100%|██████████████████████████████████████████████████████████████████████████████████| 11/11 [02:40<00:00, 14.61s/it]\n"
     ]
    },
    {
     "name": "stdout",
     "output_type": "stream",
     "text": [
      "Generating Heat Map\n"
     ]
    },
    {
     "name": "stderr",
     "output_type": "stream",
     "text": [
      "100%|██████████████████████████████████████████████████████████████████████████████████| 11/11 [01:47<00:00,  9.75s/it]\n"
     ]
    }
   ],
   "source": [
    "import pandas as pd\n",
    "EpochsList= [19,38, 43, 44, 47, 48, 55]\n",
    "\n",
    "\n",
    "results=vis.EpochSelection(model, log_path, image_file_path, label_file_path,EpochsToTest=EpochsList)"
   ]
  },
  {
   "cell_type": "code",
   "execution_count": 7,
   "id": "0e831d5a",
   "metadata": {},
   "outputs": [
    {
     "data": {
      "text/html": [
       "<div>\n",
       "<style scoped>\n",
       "    .dataframe tbody tr th:only-of-type {\n",
       "        vertical-align: middle;\n",
       "    }\n",
       "\n",
       "    .dataframe tbody tr th {\n",
       "        vertical-align: top;\n",
       "    }\n",
       "\n",
       "    .dataframe thead th {\n",
       "        text-align: right;\n",
       "    }\n",
       "</style>\n",
       "<table border=\"1\" class=\"dataframe\">\n",
       "  <thead>\n",
       "    <tr style=\"text-align: right;\">\n",
       "      <th></th>\n",
       "      <th>Epoch</th>\n",
       "      <th>CheckPoint</th>\n",
       "      <th>TruePositives</th>\n",
       "      <th>FalsePositives</th>\n",
       "      <th>FalseNegatives</th>\n",
       "      <th>TrueNegatives</th>\n",
       "      <th>Precision</th>\n",
       "      <th>Recall</th>\n",
       "      <th>F1</th>\n",
       "      <th>Acc</th>\n",
       "      <th>FP-FN Ratio</th>\n",
       "    </tr>\n",
       "  </thead>\n",
       "  <tbody>\n",
       "    <tr>\n",
       "      <th>0</th>\n",
       "      <td>19</td>\n",
       "      <td>MAnet-ResNetEnc-162-12-12-2022/19-2257-MAnet-R...</td>\n",
       "      <td>7845744</td>\n",
       "      <td>672078</td>\n",
       "      <td>545840</td>\n",
       "      <td>319326335</td>\n",
       "      <td>0.921097</td>\n",
       "      <td>0.934954</td>\n",
       "      <td>0.927974</td>\n",
       "      <td>0.996291</td>\n",
       "      <td>1.231272</td>\n",
       "    </tr>\n",
       "    <tr>\n",
       "      <th>0</th>\n",
       "      <td>38</td>\n",
       "      <td>MAnet-ResNetEnc-162-12-12-2022/38-454-MAnet-Re...</td>\n",
       "      <td>7425950</td>\n",
       "      <td>437177</td>\n",
       "      <td>965634</td>\n",
       "      <td>319561236</td>\n",
       "      <td>0.944402</td>\n",
       "      <td>0.884928</td>\n",
       "      <td>0.913698</td>\n",
       "      <td>0.995728</td>\n",
       "      <td>0.452736</td>\n",
       "    </tr>\n",
       "    <tr>\n",
       "      <th>0</th>\n",
       "      <td>43</td>\n",
       "      <td>MAnet-ResNetEnc-162-12-12-2022/43-627-MAnet-Re...</td>\n",
       "      <td>7528927</td>\n",
       "      <td>366082</td>\n",
       "      <td>862657</td>\n",
       "      <td>319632331</td>\n",
       "      <td>0.953631</td>\n",
       "      <td>0.897200</td>\n",
       "      <td>0.924555</td>\n",
       "      <td>0.996258</td>\n",
       "      <td>0.424366</td>\n",
       "    </tr>\n",
       "    <tr>\n",
       "      <th>0</th>\n",
       "      <td>44</td>\n",
       "      <td>MAnet-ResNetEnc-162-12-12-2022/44-646-MAnet-Re...</td>\n",
       "      <td>7557868</td>\n",
       "      <td>377795</td>\n",
       "      <td>833716</td>\n",
       "      <td>319620618</td>\n",
       "      <td>0.952393</td>\n",
       "      <td>0.900649</td>\n",
       "      <td>0.925798</td>\n",
       "      <td>0.996311</td>\n",
       "      <td>0.453147</td>\n",
       "    </tr>\n",
       "    <tr>\n",
       "      <th>0</th>\n",
       "      <td>47</td>\n",
       "      <td>MAnet-ResNetEnc-162-12-12-2022/47-743-MAnet-Re...</td>\n",
       "      <td>7372103</td>\n",
       "      <td>285984</td>\n",
       "      <td>1019481</td>\n",
       "      <td>319712429</td>\n",
       "      <td>0.962656</td>\n",
       "      <td>0.878511</td>\n",
       "      <td>0.918661</td>\n",
       "      <td>0.996025</td>\n",
       "      <td>0.280520</td>\n",
       "    </tr>\n",
       "    <tr>\n",
       "      <th>0</th>\n",
       "      <td>48</td>\n",
       "      <td>MAnet-ResNetEnc-162-12-12-2022/48-82-MAnet-Res...</td>\n",
       "      <td>7493594</td>\n",
       "      <td>417648</td>\n",
       "      <td>897990</td>\n",
       "      <td>319580765</td>\n",
       "      <td>0.947208</td>\n",
       "      <td>0.892989</td>\n",
       "      <td>0.919300</td>\n",
       "      <td>0.995994</td>\n",
       "      <td>0.465093</td>\n",
       "    </tr>\n",
       "    <tr>\n",
       "      <th>0</th>\n",
       "      <td>55</td>\n",
       "      <td>MAnet-ResNetEnc-162-12-12-2022/55-1019-MAnet-R...</td>\n",
       "      <td>7265184</td>\n",
       "      <td>265360</td>\n",
       "      <td>1126400</td>\n",
       "      <td>319733053</td>\n",
       "      <td>0.964762</td>\n",
       "      <td>0.865770</td>\n",
       "      <td>0.912590</td>\n",
       "      <td>0.995762</td>\n",
       "      <td>0.235583</td>\n",
       "    </tr>\n",
       "  </tbody>\n",
       "</table>\n",
       "</div>"
      ],
      "text/plain": [
       "  Epoch                                         CheckPoint TruePositives  \\\n",
       "0    19  MAnet-ResNetEnc-162-12-12-2022/19-2257-MAnet-R...       7845744   \n",
       "0    38  MAnet-ResNetEnc-162-12-12-2022/38-454-MAnet-Re...       7425950   \n",
       "0    43  MAnet-ResNetEnc-162-12-12-2022/43-627-MAnet-Re...       7528927   \n",
       "0    44  MAnet-ResNetEnc-162-12-12-2022/44-646-MAnet-Re...       7557868   \n",
       "0    47  MAnet-ResNetEnc-162-12-12-2022/47-743-MAnet-Re...       7372103   \n",
       "0    48  MAnet-ResNetEnc-162-12-12-2022/48-82-MAnet-Res...       7493594   \n",
       "0    55  MAnet-ResNetEnc-162-12-12-2022/55-1019-MAnet-R...       7265184   \n",
       "\n",
       "  FalsePositives FalseNegatives TrueNegatives  Precision    Recall        F1  \\\n",
       "0         672078         545840     319326335   0.921097  0.934954  0.927974   \n",
       "0         437177         965634     319561236   0.944402  0.884928  0.913698   \n",
       "0         366082         862657     319632331   0.953631  0.897200  0.924555   \n",
       "0         377795         833716     319620618   0.952393  0.900649  0.925798   \n",
       "0         285984        1019481     319712429   0.962656  0.878511  0.918661   \n",
       "0         417648         897990     319580765   0.947208  0.892989  0.919300   \n",
       "0         265360        1126400     319733053   0.964762  0.865770  0.912590   \n",
       "\n",
       "        Acc  FP-FN Ratio  \n",
       "0  0.996291     1.231272  \n",
       "0  0.995728     0.452736  \n",
       "0  0.996258     0.424366  \n",
       "0  0.996311     0.453147  \n",
       "0  0.996025     0.280520  \n",
       "0  0.995994     0.465093  \n",
       "0  0.995762     0.235583  "
      ]
     },
     "execution_count": 7,
     "metadata": {},
     "output_type": "execute_result"
    }
   ],
   "source": [
    "results"
   ]
  },
  {
   "cell_type": "code",
   "execution_count": 6,
   "id": "905149d5",
   "metadata": {},
   "outputs": [],
   "source": [
    "image_file_path=\".\\\\Data\\\\source\\\\rasters\\\\Arundo4.tif\"\n",
    "label_file_path=\".\\\\Data\\\\source\\\\labels\\\\Arundo4.png\""
   ]
  },
  {
   "cell_type": "code",
   "execution_count": 8,
   "id": "31c36bea",
   "metadata": {
    "scrolled": false
   },
   "outputs": [
    {
     "name": "stdout",
     "output_type": "stream",
     "text": [
      "loading epoch: 19  at Checkpoint: MAnet-ResNetEnc-162-12-12-2022/19-2257-MAnet-ResNetEnc.torch\n",
      "processing Image...\n",
      "processing Label...\n",
      "(12800, 41600)\n",
      "Generating Confusion Map\n"
     ]
    },
    {
     "name": "stderr",
     "output_type": "stream",
     "text": [
      "  0%|                                                                                            | 0/4 [00:00<?, ?it/s]C:\\Users\\Mark\\Anaconda3\\envs\\arcgispro-py3\\lib\\site-packages\\segmentation_models_pytorch\\base\\modules.py:116: UserWarning: Implicit dimension choice for softmax has been deprecated. Change the call to include dim=X as an argument.\n",
      "  return self.activation(x)\n",
      "100%|████████████████████████████████████████████████████████████████████████████████████| 4/4 [02:17<00:00, 34.40s/it]\n"
     ]
    },
    {
     "name": "stdout",
     "output_type": "stream",
     "text": [
      "./MAnet-ResNetEnc-162-12-12-2022/MAnet-ResNetEncConfMatrix-Epoch19-Arundo4  |  (11366, 40664, 3)  | Saved Successfully=  True\n",
      "TP: 7514620   FP: 635435\n",
      "FN: 708174   TN: 364878163\n",
      "\n",
      "Correct  : 372392783  = 99.64048767089844 %\n",
      "Incorrect: 1343609  = 0.35950714349746704 %\n",
      "\n",
      "Accuracy: 99.64 %\n",
      "processing Image...\n",
      "processing Label...\n",
      "(12800, 41600)\n"
     ]
    },
    {
     "name": "stderr",
     "output_type": "stream",
     "text": [
      "100%|████████████████████████████████████████████████████████████████████████████████████| 4/4 [01:49<00:00, 27.41s/it]\n"
     ]
    },
    {
     "name": "stdout",
     "output_type": "stream",
     "text": [
      "Generating Heat Map\n"
     ]
    },
    {
     "name": "stderr",
     "output_type": "stream",
     "text": [
      "100%|████████████████████████████████████████████████████████████████████████████████████| 4/4 [01:10<00:00, 17.61s/it]\n"
     ]
    },
    {
     "name": "stdout",
     "output_type": "stream",
     "text": [
      "loading epoch: 38  at Checkpoint: MAnet-ResNetEnc-162-12-12-2022/38-454-MAnet-ResNetEnc.torch\n",
      "processing Image...\n",
      "processing Label...\n",
      "(12800, 41600)\n",
      "Generating Confusion Map\n"
     ]
    },
    {
     "name": "stderr",
     "output_type": "stream",
     "text": [
      "100%|████████████████████████████████████████████████████████████████████████████████████| 4/4 [02:16<00:00, 34.15s/it]\n"
     ]
    },
    {
     "name": "stdout",
     "output_type": "stream",
     "text": [
      "./MAnet-ResNetEnc-162-12-12-2022/MAnet-ResNetEncConfMatrix-Epoch38-Arundo4  |  (11366, 40664, 3)  | Saved Successfully=  True\n",
      "TP: 7223556   FP: 399126\n",
      "FN: 999238   TN: 365114472\n",
      "\n",
      "Correct  : 372338028  = 99.62584686279297 %\n",
      "Incorrect: 1398364  = 0.3741578459739685 %\n",
      "\n",
      "Accuracy: 99.626 %\n",
      "processing Image...\n",
      "processing Label...\n",
      "(12800, 41600)\n"
     ]
    },
    {
     "name": "stderr",
     "output_type": "stream",
     "text": [
      "100%|████████████████████████████████████████████████████████████████████████████████████| 4/4 [01:52<00:00, 28.03s/it]\n"
     ]
    },
    {
     "name": "stdout",
     "output_type": "stream",
     "text": [
      "Generating Heat Map\n"
     ]
    },
    {
     "name": "stderr",
     "output_type": "stream",
     "text": [
      "100%|████████████████████████████████████████████████████████████████████████████████████| 4/4 [01:15<00:00, 18.79s/it]\n"
     ]
    },
    {
     "name": "stdout",
     "output_type": "stream",
     "text": [
      "loading epoch: 43  at Checkpoint: MAnet-ResNetEnc-162-12-12-2022/43-627-MAnet-ResNetEnc.torch\n",
      "processing Image...\n",
      "processing Label...\n",
      "(12800, 41600)\n",
      "Generating Confusion Map\n"
     ]
    },
    {
     "name": "stderr",
     "output_type": "stream",
     "text": [
      "100%|████████████████████████████████████████████████████████████████████████████████████| 4/4 [02:17<00:00, 34.42s/it]\n"
     ]
    },
    {
     "name": "stdout",
     "output_type": "stream",
     "text": [
      "./MAnet-ResNetEnc-162-12-12-2022/MAnet-ResNetEncConfMatrix-Epoch43-Arundo4  |  (11366, 40664, 3)  | Saved Successfully=  True\n",
      "TP: 7210250   FP: 347622\n",
      "FN: 1012544   TN: 365165976\n",
      "\n",
      "Correct  : 372376226  = 99.63606262207031 %\n",
      "Incorrect: 1360166  = 0.36393728852272034 %\n",
      "\n",
      "Accuracy: 99.636 %\n",
      "processing Image...\n",
      "processing Label...\n",
      "(12800, 41600)\n"
     ]
    },
    {
     "name": "stderr",
     "output_type": "stream",
     "text": [
      "100%|████████████████████████████████████████████████████████████████████████████████████| 4/4 [01:49<00:00, 27.50s/it]\n"
     ]
    },
    {
     "name": "stdout",
     "output_type": "stream",
     "text": [
      "Generating Heat Map\n"
     ]
    },
    {
     "name": "stderr",
     "output_type": "stream",
     "text": [
      "100%|████████████████████████████████████████████████████████████████████████████████████| 4/4 [01:10<00:00, 17.58s/it]\n"
     ]
    },
    {
     "name": "stdout",
     "output_type": "stream",
     "text": [
      "loading epoch: 44  at Checkpoint: MAnet-ResNetEnc-162-12-12-2022/44-646-MAnet-ResNetEnc.torch\n",
      "processing Image...\n",
      "processing Label...\n",
      "(12800, 41600)\n",
      "Generating Confusion Map\n"
     ]
    },
    {
     "name": "stderr",
     "output_type": "stream",
     "text": [
      "100%|████████████████████████████████████████████████████████████████████████████████████| 4/4 [02:18<00:00, 34.62s/it]\n"
     ]
    },
    {
     "name": "stdout",
     "output_type": "stream",
     "text": [
      "./MAnet-ResNetEnc-162-12-12-2022/MAnet-ResNetEncConfMatrix-Epoch44-Arundo4  |  (11366, 40664, 3)  | Saved Successfully=  True\n",
      "TP: 7275272   FP: 350417\n",
      "FN: 947522   TN: 365163181\n",
      "\n",
      "Correct  : 372438453  = 99.65271759033203 %\n",
      "Incorrect: 1297939  = 0.34728729724884033 %\n",
      "\n",
      "Accuracy: 99.653 %\n",
      "processing Image...\n",
      "processing Label...\n",
      "(12800, 41600)\n"
     ]
    },
    {
     "name": "stderr",
     "output_type": "stream",
     "text": [
      "100%|████████████████████████████████████████████████████████████████████████████████████| 4/4 [01:49<00:00, 27.43s/it]\n"
     ]
    },
    {
     "name": "stdout",
     "output_type": "stream",
     "text": [
      "Generating Heat Map\n"
     ]
    },
    {
     "name": "stderr",
     "output_type": "stream",
     "text": [
      "100%|████████████████████████████████████████████████████████████████████████████████████| 4/4 [01:15<00:00, 18.82s/it]\n"
     ]
    },
    {
     "name": "stdout",
     "output_type": "stream",
     "text": [
      "loading epoch: 47  at Checkpoint: MAnet-ResNetEnc-162-12-12-2022/47-743-MAnet-ResNetEnc.torch\n",
      "processing Image...\n",
      "processing Label...\n",
      "(12800, 41600)\n",
      "Generating Confusion Map\n"
     ]
    },
    {
     "name": "stderr",
     "output_type": "stream",
     "text": [
      "100%|████████████████████████████████████████████████████████████████████████████████████| 4/4 [02:20<00:00, 35.09s/it]\n"
     ]
    },
    {
     "name": "stdout",
     "output_type": "stream",
     "text": [
      "./MAnet-ResNetEnc-162-12-12-2022/MAnet-ResNetEncConfMatrix-Epoch47-Arundo4  |  (11366, 40664, 3)  | Saved Successfully=  True\n",
      "TP: 7331527   FP: 343830\n",
      "FN: 891267   TN: 365169768\n",
      "\n",
      "Correct  : 372501295  = 99.66952514648438 %\n",
      "Incorrect: 1235097  = 0.33047279715538025 %\n",
      "\n",
      "Accuracy: 99.67 %\n",
      "processing Image...\n",
      "processing Label...\n",
      "(12800, 41600)\n"
     ]
    },
    {
     "name": "stderr",
     "output_type": "stream",
     "text": [
      "100%|████████████████████████████████████████████████████████████████████████████████████| 4/4 [01:49<00:00, 27.33s/it]\n"
     ]
    },
    {
     "name": "stdout",
     "output_type": "stream",
     "text": [
      "Generating Heat Map\n"
     ]
    },
    {
     "name": "stderr",
     "output_type": "stream",
     "text": [
      "100%|████████████████████████████████████████████████████████████████████████████████████| 4/4 [01:10<00:00, 17.54s/it]\n"
     ]
    },
    {
     "name": "stdout",
     "output_type": "stream",
     "text": [
      "loading epoch: 48  at Checkpoint: MAnet-ResNetEnc-162-12-12-2022/48-82-MAnet-ResNetEnc.torch\n",
      "processing Image...\n",
      "processing Label...\n",
      "(12800, 41600)\n",
      "Generating Confusion Map\n"
     ]
    },
    {
     "name": "stderr",
     "output_type": "stream",
     "text": [
      "100%|████████████████████████████████████████████████████████████████████████████████████| 4/4 [02:17<00:00, 34.29s/it]\n"
     ]
    },
    {
     "name": "stdout",
     "output_type": "stream",
     "text": [
      "./MAnet-ResNetEnc-162-12-12-2022/MAnet-ResNetEncConfMatrix-Epoch48-Arundo4  |  (11366, 40664, 3)  | Saved Successfully=  True\n",
      "TP: 7298498   FP: 511930\n",
      "FN: 924296   TN: 365001668\n",
      "\n",
      "Correct  : 372300166  = 99.61570739746094 %\n",
      "Incorrect: 1436226  = 0.3842885196208954 %\n",
      "\n",
      "Accuracy: 99.616 %\n",
      "processing Image...\n",
      "processing Label...\n",
      "(12800, 41600)\n"
     ]
    },
    {
     "name": "stderr",
     "output_type": "stream",
     "text": [
      "100%|████████████████████████████████████████████████████████████████████████████████████| 4/4 [01:51<00:00, 27.95s/it]\n"
     ]
    },
    {
     "name": "stdout",
     "output_type": "stream",
     "text": [
      "Generating Heat Map\n"
     ]
    },
    {
     "name": "stderr",
     "output_type": "stream",
     "text": [
      "100%|████████████████████████████████████████████████████████████████████████████████████| 4/4 [01:10<00:00, 17.71s/it]\n"
     ]
    },
    {
     "name": "stdout",
     "output_type": "stream",
     "text": [
      "loading epoch: 55  at Checkpoint: MAnet-ResNetEnc-162-12-12-2022/55-1019-MAnet-ResNetEnc.torch\n",
      "processing Image...\n",
      "processing Label...\n",
      "(12800, 41600)\n",
      "Generating Confusion Map\n"
     ]
    },
    {
     "name": "stderr",
     "output_type": "stream",
     "text": [
      "100%|████████████████████████████████████████████████████████████████████████████████████| 4/4 [02:17<00:00, 34.44s/it]\n"
     ]
    },
    {
     "name": "stdout",
     "output_type": "stream",
     "text": [
      "./MAnet-ResNetEnc-162-12-12-2022/MAnet-ResNetEncConfMatrix-Epoch55-Arundo4  |  (11366, 40664, 3)  | Saved Successfully=  True\n",
      "TP: 7096340   FP: 256238\n",
      "FN: 1126454   TN: 365257360\n",
      "\n",
      "Correct  : 372353700  = 99.63003540039062 %\n",
      "Incorrect: 1382692  = 0.36996451020240784 %\n",
      "\n",
      "Accuracy: 99.63 %\n",
      "processing Image...\n",
      "processing Label...\n",
      "(12800, 41600)\n"
     ]
    },
    {
     "name": "stderr",
     "output_type": "stream",
     "text": [
      "100%|████████████████████████████████████████████████████████████████████████████████████| 4/4 [01:48<00:00, 27.14s/it]\n"
     ]
    },
    {
     "name": "stdout",
     "output_type": "stream",
     "text": [
      "Generating Heat Map\n"
     ]
    },
    {
     "name": "stderr",
     "output_type": "stream",
     "text": [
      "100%|████████████████████████████████████████████████████████████████████████████████████| 4/4 [01:10<00:00, 17.74s/it]\n"
     ]
    }
   ],
   "source": [
    "results=vis.EpochSelection(model, log_path, image_file_path, label_file_path,EpochsToTest=EpochsList)"
   ]
  },
  {
   "cell_type": "code",
   "execution_count": null,
   "id": "6b4e8359",
   "metadata": {},
   "outputs": [],
   "source": [
    "Default_threshold_List=[0.35,0.5,0.65]\n",
    "data=vis.PRCurve(Net, image_file_path, label_file_path, threshold_List=Default_threshold_List)"
   ]
  },
  {
   "cell_type": "code",
   "execution_count": null,
   "id": "630d9f95",
   "metadata": {},
   "outputs": [],
   "source": [
    "data"
   ]
  }
 ],
 "metadata": {
  "kernelspec": {
   "display_name": "Python 3",
   "language": "python",
   "name": "python3"
  },
  "language_info": {
   "codemirror_mode": {
    "name": "ipython",
    "version": 3
   },
   "file_extension": ".py",
   "mimetype": "text/x-python",
   "name": "python",
   "nbconvert_exporter": "python",
   "pygments_lexer": "ipython3",
   "version": "3.9.11"
  }
 },
 "nbformat": 4,
 "nbformat_minor": 5
}
